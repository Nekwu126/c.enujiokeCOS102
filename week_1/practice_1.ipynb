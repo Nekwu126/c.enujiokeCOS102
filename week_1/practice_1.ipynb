{
 "cells": [
  {
   "cell_type": "code",
   "execution_count": 2,
   "id": "6ad18679-8e1e-455c-9499-cf3e983adb9a",
   "metadata": {},
   "outputs": [
    {
     "name": "stdout",
     "output_type": "stream",
     "text": [
      "100\n",
      "Data type of variable num is <class 'int'>\n",
      "34.45\n",
      "Data type of variable fnum is <class 'float'>\n",
      "(3+4j)\n",
      "Data type of variable cnum is <class 'complex'>\n"
     ]
    }
   ],
   "source": [
    "# Integer number \n",
    "num = 100\n",
    "print(num)\n",
    "print(\"Data type of variable num is\", type(num))\n",
    "\n",
    "#float number\n",
    "fnum = 34.45\n",
    "print(fnum)\n",
    "print(\"Data type of variable fnum is\", type(fnum))\n",
    "\n",
    "#complex number \n",
    "cnum = 3 + 4j\n",
    "print(cnum)\n",
    "print(\"Data type of variable cnum is\", type(cnum))"
   ]
  },
  {
   "cell_type": "code",
   "execution_count": null,
   "id": "8a777e69-43c3-4d0b-99bd-ab6e06eeb413",
   "metadata": {},
   "outputs": [],
   "source": []
  }
 ],
 "metadata": {
  "kernelspec": {
   "display_name": "Python 3 (ipykernel)",
   "language": "python",
   "name": "python3"
  },
  "language_info": {
   "codemirror_mode": {
    "name": "ipython",
    "version": 3
   },
   "file_extension": ".py",
   "mimetype": "text/x-python",
   "name": "python",
   "nbconvert_exporter": "python",
   "pygments_lexer": "ipython3",
   "version": "3.11.7"
  }
 },
 "nbformat": 4,
 "nbformat_minor": 5
}
