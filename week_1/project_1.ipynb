{
 "cells": [
  {
   "cell_type": "code",
   "execution_count": 1,
   "id": "6bfb60c6-9640-46f2-b6e0-1a8339e7d0fe",
   "metadata": {},
   "outputs": [
    {
     "name": "stdout",
     "output_type": "stream",
     "text": [
      "This is a program to calculate simple interest\n"
     ]
    }
   ],
   "source": [
    "# Simple Interest\n",
    "print (\"This is a program to calculate simple interest\")\n"
   ]
  },
  {
   "cell_type": "code",
   "execution_count": 11,
   "id": "a2f18c91-5d17-4454-863e-f3aa0a719054",
   "metadata": {},
   "outputs": [
    {
     "name": "stdout",
     "output_type": "stream",
     "text": [
      "The simple interest is 8625.0\n"
     ]
    }
   ],
   "source": [
    "P = 7500\n",
    "R = 5\n",
    "T = 3\n",
    "A = P * ( 1 + (R / 100) * T)\n",
    "print(\"The simple interest is\", A)\n"
   ]
  },
  {
   "cell_type": "code",
   "execution_count": 10,
   "id": "ba0344de-d5a9-4716-a7b6-077869fe5d3e",
   "metadata": {},
   "outputs": [
    {
     "name": "stdout",
     "output_type": "stream",
     "text": [
      "This program is going to be used to calculate compound interest\n",
      "The compound interest is  190555.55555555547\n"
     ]
    }
   ],
   "source": [
    "# A program for calculating compound interest\n",
    "print (\"This program is going to be used to calculate compound interest\")\n",
    "P = 7500\n",
    "R = 4\n",
    "n = 3\n",
    "t = 2\n",
    "A = P * (1 + R / n) ** n * t\n",
    "print(\"The compound interest is \", A)"
   ]
  },
  {
   "cell_type": "code",
   "execution_count": 9,
   "id": "b8fe6dce-a5db-4fb2-9ff8-ff9580b00911",
   "metadata": {},
   "outputs": [
    {
     "name": "stdout",
     "output_type": "stream",
     "text": [
      "This program will be used to calculate for the annuity plan of a particular year\n",
      "The annuity plan is 1372916666.6666663\n"
     ]
    }
   ],
   "source": [
    "# A program for the calculation of an annuity plan\n",
    "print (\"This program will be used to calculate for the annuity plan of a particular year\")\n",
    "P = 7500\n",
    "M = 5000\n",
    "T = 2\n",
    "R = 4\n",
    "n = 3\n",
    "A = P * M * T * ((1 + R / n) ** n * t - 1) / (R / n)\n",
    "print(\"The annuity plan is\", A) \n",
    "\n"
   ]
  }
 ],
 "metadata": {
  "kernelspec": {
   "display_name": "Python 3 (ipykernel)",
   "language": "python",
   "name": "python3"
  },
  "language_info": {
   "codemirror_mode": {
    "name": "ipython",
    "version": 3
   },
   "file_extension": ".py",
   "mimetype": "text/x-python",
   "name": "python",
   "nbconvert_exporter": "python",
   "pygments_lexer": "ipython3",
   "version": "3.11.7"
  }
 },
 "nbformat": 4,
 "nbformat_minor": 5
}
