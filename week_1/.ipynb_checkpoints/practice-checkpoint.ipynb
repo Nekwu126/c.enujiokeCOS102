{
 "cells": [
  {
   "cell_type": "code",
   "execution_count": 1,
   "id": "0dd183a9-b916-4819-bdac-5638da338397",
   "metadata": {},
   "outputs": [
    {
     "name": "stdout",
     "output_type": "stream",
     "text": [
      "Hello Jay\n"
     ]
    }
   ],
   "source": [
    "print(\"Hello Jay\")"
   ]
  },
  {
   "cell_type": "code",
   "execution_count": null,
   "id": "bc104dd9-07a7-4b26-b24e-af50f123040b",
   "metadata": {},
   "outputs": [],
   "source": [
    "person = input(\"What's your name\")\n",
    "print('Hello,', person)"
   ]
  },
  {
   "cell_type": "code",
   "execution_count": null,
   "id": "20117ff3-7e2a-4c4a-99e9-86ca4cd362e9",
   "metadata": {},
   "outputs": [],
   "source": [
    "age = 12\n",
    "print(age)"
   ]
  },
  {
   "cell_type": "code",
   "execution_count": null,
   "id": "0b01b62b-b5c1-4328-9715-2291ac41f09e",
   "metadata": {},
   "outputs": [],
   "source": [
    "x = 6\n",
    "y = x * 7\n",
    "print(y)"
   ]
  },
  {
   "cell_type": "code",
   "execution_count": null,
   "id": "5ed3addc-885b-4af6-99d0-09e9de4b1958",
   "metadata": {},
   "outputs": [],
   "source": [
    "name = 'Adele Joe'\n",
    "print (name)"
   ]
  },
  {
   "cell_type": "code",
   "execution_count": null,
   "id": "8108cd77-ad80-472b-9d74-385db48478ca",
   "metadata": {},
   "outputs": [],
   "source": [
    "mango < apple"
   ]
  },
  {
   "cell_type": "code",
   "execution_count": null,
   "id": "1eac28c1-d045-4db4-877a-6631c43aabe2",
   "metadata": {},
   "outputs": [],
   "source": [
    "mango == apple"
   ]
  },
  {
   "cell_type": "code",
   "execution_count": 1,
   "id": "d2ce2886-29bd-4910-9279-026b8975ab0d",
   "metadata": {},
   "outputs": [
    {
     "name": "stdout",
     "output_type": "stream",
     "text": [
      "Hello guys\n",
      "How are you all?\n",
      "Welcome to Python Programming\n"
     ]
    }
   ],
   "source": [
    "''' \n",
    "We are writing a simple program here\n",
    "First print statement.\n",
    "This is a multiple line comment. \n",
    "\n",
    "'''\n",
    "\n",
    "print(\"Hello guys\")\n",
    "\n",
    "# Second print statement\n",
    "print (\"How are you all?\")\n",
    "\n",
    "# Third print statement\n",
    "print(\"Welcome to Python Programming\")"
   ]
  },
  {
   "cell_type": "code",
   "execution_count": 2,
   "id": "23ba4653-1546-4eeb-80a1-4a0ab2dbe75b",
   "metadata": {},
   "outputs": [
    {
     "name": "stdout",
     "output_type": "stream",
     "text": [
      "Three digit number\n"
     ]
    }
   ],
   "source": [
    "num = 100\n",
    "\n",
    "if 9 < num < 99:\n",
    "\n",
    "    print(\"Two digit number\")\n",
    "\n",
    "elif 99 < num < 999:\n",
    "\n",
    "    print(\"Three digit number\")\n",
    "\n",
    "elif 999 < num < 9999:\n",
    "\n",
    "    print(\"Four digit number\")\n",
    "\n",
    "else:\n",
    "\n",
    "    print(\"number is <=9 or >=9999\")\n",
    "    "
   ]
  },
  {
   "cell_type": "code",
   "execution_count": 5,
   "id": "8af9ffad-a483-4174-9b3b-5f8a93f0e1dc",
   "metadata": {},
   "outputs": [
    {
     "name": "stdout",
     "output_type": "stream",
     "text": [
      "Three digit number\n",
      "number is <= 9 or >= 9999\n"
     ]
    }
   ],
   "source": [
    "if 9 < num < 99:\n",
    "\n",
    "    print(\"Two digit number\")\n",
    "\n",
    "if 99 < num < 999:\n",
    "\n",
    "    print(\"Three digit number\")\n",
    "\n",
    "if 999 < num < 9999:\n",
    "\n",
    "    print(\"Four digit number\")\n",
    "\n",
    "else:\n",
    "\n",
    "    print(\"number is <= 9 or >= 9999\")"
   ]
  },
  {
   "cell_type": "code",
   "execution_count": 6,
   "id": "8fe72355-548f-4777-9a80-852eb052ba6e",
   "metadata": {},
   "outputs": [
    {
     "name": "stdout",
     "output_type": "stream",
     "text": [
      "Welcome to CSC 102 Introduction to Problem Solving\n"
     ]
    }
   ],
   "source": [
    "message =  \"Welcome to\"\n",
    "course_code = \"CSC 102\"\n",
    "course_title = \"Introduction to Problem Solving\"\n",
    "\n",
    "concat = message +' '+ course_code+' '+course_title\n",
    "\n",
    "print(concat)"
   ]
  },
  {
   "cell_type": "code",
   "execution_count": null,
   "id": "45578b86-f67e-4986-97c6-80f4d3ba2097",
   "metadata": {},
   "outputs": [],
   "source": []
  }
 ],
 "metadata": {
  "kernelspec": {
   "display_name": "Python 3 (ipykernel)",
   "language": "python",
   "name": "python3"
  },
  "language_info": {
   "codemirror_mode": {
    "name": "ipython",
    "version": 3
   },
   "file_extension": ".py",
   "mimetype": "text/x-python",
   "name": "python",
   "nbconvert_exporter": "python",
   "pygments_lexer": "ipython3",
   "version": "3.11.7"
  }
 },
 "nbformat": 4,
 "nbformat_minor": 5
}
