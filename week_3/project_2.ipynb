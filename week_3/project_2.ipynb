{
 "cells": [
  {
   "cell_type": "code",
   "execution_count": null,
   "id": "ce2461dc-fa8f-4719-9580-1befc2beb7db",
   "metadata": {},
   "outputs": [
    {
     "name": "stdout",
     "output_type": "stream",
     "text": [
      "Type 'a' to calculate the roots of a quadratic equation\n",
      "Type 'b' to calculate the roots of a cubic equation\n",
      "Type 'c' to calculate the roots of a quartic equation\n"
     ]
    }
   ],
   "source": [
    "import cmath\n",
    "import numpy as np\n",
    "\n",
    "# Display the options the user will choose from\n",
    "print(\"Type '1' to calculate the roots of a quadratic equation\")\n",
    "print(\"Type '2' to calculate the roots of a cubic equation\")\n",
    "print(\"Type '3' to calculate the roots of a quartic equation\")\n",
    "\n",
    "choice = int(input(\"Enter your choice: 1, 2 or 3\"))\n",
    "\n",
    "#calculate for quadratic equation\n",
    "if choice = 1:\n",
    "    a = float(input(\"Enter your value for a:\"))\n",
    "    b = float(input(\"Enter your value for b: \"))\n",
    "    c = float(input(\"Enter your value for c: \"))\n",
    "    disc = b ** 2 - 4 * a * c\n",
    "    if disc > 0:\n",
    "        r1 = (-b + cmath.sqrt(disc)) / (2 * a)\n",
    "        r2 = (-b - cmath.sqrt(disc)) / (2 * a)\n",
    "    elif disc == 0:\n",
    "        r1 = -b / (2 * a)\n",
    "        print(\"The quadratic equations's repeated root is: \", r1)\n",
    "    else:\n",
    "        real = -b / (2 * a)\n",
    "        imaginary = cmath.sqrt(abs(disc)) / (2 * a)\n",
    "        r1 = complex(real,imaginary)\n",
    "        r2 = complex\n",
    "        \n",
    "        \n",
    "        \n",
    "        \n",
    "        \n",
    "        \n",
    "    \n",
    "\n",
    "\n",
    "    \n",
    "\n",
    "\n",
    "\n",
    "\n"
   ]
  }
 ],
 "metadata": {
  "kernelspec": {
   "display_name": "Python 3 (ipykernel)",
   "language": "python",
   "name": "python3"
  },
  "language_info": {
   "codemirror_mode": {
    "name": "ipython",
    "version": 3
   },
   "file_extension": ".py",
   "mimetype": "text/x-python",
   "name": "python",
   "nbconvert_exporter": "python",
   "pygments_lexer": "ipython3",
   "version": "3.11.7"
  }
 },
 "nbformat": 4,
 "nbformat_minor": 5
}
