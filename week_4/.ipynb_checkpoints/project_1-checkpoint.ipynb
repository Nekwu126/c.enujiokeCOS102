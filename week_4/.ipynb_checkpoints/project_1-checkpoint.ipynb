{
 "cells": [
  {
   "cell_type": "code",
   "execution_count": 17,
   "id": "66b72fbc-40db-49d2-bcd9-024ef3c68f63",
   "metadata": {},
   "outputs": [
    {
     "name": "stdout",
     "output_type": "stream",
     "text": [
      "Female student details\n",
      "Name | Age | Height | Score\n",
      "('Evelyn', 17, 5.5, 80)\n",
      "('Jessica', 16, 6.0, 85)\n",
      "('Somto', 17, 5.4, 70)\n",
      "('Edith', 18, 5.9, 60)\n",
      "('Liza', 16, 5.6, 76)\n",
      "('Madonna', 18, 5.5, 66)\n",
      "('Waje', 17, 6.1, 87)\n",
      "('Tola', 20, 6.0, 95)\n",
      "('Aisha', 19, 5.7, 50)\n",
      "('Latifa', 17, 5.5, 49)\n"
     ]
    }
   ],
   "source": [
    "print(\"Female student details\")\n",
    "\n",
    "print(\"Name | Age | Height | Score\")\n",
    "gname1 = (\"Evelyn\", 17, 5.5, 80)\n",
    "gname2 = (\"Jessica\", 16, 6.0, 85)\n",
    "gname3 = (\"Somto\", 17, 5.4, 70)\n",
    "gname4 = (\"Edith\", 18, 5.9, 60)\n",
    "gname5 = (\"Liza\", 16, 5.6, 76)\n",
    "gname6 = (\"Madonna\", 18, 5.5, 66)\n",
    "gname7 = (\"Waje\", 17, 6.1, 87)\n",
    "gname8 = (\"Tola\", 20, 6.0, 95)\n",
    "gname9 = (\"Aisha\", 19, 5.7, 50)\n",
    "gname10 = (\"Latifa\", 17, 5.5, 49)\n",
    "print(gname1)\n",
    "print(gname2)\n",
    "print(gname3)\n",
    "print(gname4)\n",
    "print(gname5)\n",
    "print(gname6)\n",
    "print(gname7)\n",
    "print(gname8)\n",
    "print(gname9)\n",
    "print(gname10)"
   ]
  },
  {
   "cell_type": "code",
   "execution_count": 18,
   "id": "f9250eaa-bb9e-4fcc-92e1-689651afae85",
   "metadata": {},
   "outputs": [
    {
     "name": "stdout",
     "output_type": "stream",
     "text": [
      "Male student details\n",
      "Name | Age | Height | Scores\n",
      "('Chinedu', 19, 5.7, 74)\n",
      "('Liam', 16, 5.9, 87)\n",
      "('Wale', 18, 5.9, 75)\n",
      "('Gbenga', 17, 6.1, 68)\n",
      "('Abiola', 20, 5.9, 66)\n",
      "('Kola', 19, 5.5, 78)\n",
      "('Kunle', 16, 6.1, 87)\n",
      "('George', 18, 5.4, 98)\n",
      "('Thomas', 17, 5.8, 54)\n",
      "('Wesley', 19, 5.7, 60)\n"
     ]
    }
   ],
   "source": [
    "print(\"Male student details\")\n",
    "\n",
    "print(\"Name | Age | Height | Scores\")\n",
    "bname1 = (\"Chinedu\", 19, 5.7, 74)\n",
    "bname2 = (\"Liam\", 16, 5.9, 87)\n",
    "bname3 = (\"Wale\", 18, 5.9, 75)\n",
    "bname4 = (\"Gbenga\", 17, 6.1, 68)\n",
    "bname5 = (\"Abiola\", 20, 5.9, 66)\n",
    "bname6 = (\"Kola\", 19, 5.5, 78)\n",
    "bname7 = (\"Kunle\", 16, 6.1, 87)\n",
    "bname8 = (\"George\", 18, 5.4, 98)\n",
    "bname9 = (\"Thomas\", 17, 5.8, 54)\n",
    "bname10 = (\"Wesley\", 19, 5.7, 60)\n",
    "\n",
    "print(bname1)\n",
    "print(bname2)\n",
    "print(bname3)\n",
    "print(bname4)\n",
    "print(bname5)\n",
    "print(bname6)\n",
    "print(bname7)\n",
    "print(bname8)\n",
    "print(bname9)\n",
    "print(bname10)"
   ]
  },
  {
   "cell_type": "code",
   "execution_count": null,
   "id": "4e364186-b8d8-42b3-b683-94eec623420c",
   "metadata": {},
   "outputs": [],
   "source": []
  }
 ],
 "metadata": {
  "kernelspec": {
   "display_name": "Python 3 (ipykernel)",
   "language": "python",
   "name": "python3"
  },
  "language_info": {
   "codemirror_mode": {
    "name": "ipython",
    "version": 3
   },
   "file_extension": ".py",
   "mimetype": "text/x-python",
   "name": "python",
   "nbconvert_exporter": "python",
   "pygments_lexer": "ipython3",
   "version": "3.11.7"
  }
 },
 "nbformat": 4,
 "nbformat_minor": 5
}
