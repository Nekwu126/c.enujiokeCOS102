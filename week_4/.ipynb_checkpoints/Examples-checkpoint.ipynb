{
 "cells": [
  {
   "cell_type": "code",
   "execution_count": 1,
   "id": "9b5d786d-3e73-4bfe-871b-412009017ab1",
   "metadata": {},
   "outputs": [
    {
     "name": "stdout",
     "output_type": "stream",
     "text": [
      "10\n",
      "20\n",
      "30\n",
      "40\n",
      "50\n"
     ]
    }
   ],
   "source": [
    "# For loop example 1\n",
    "#Print the given sequence of numbers using for loop \n",
    "count = [10,20,30,40,50]\n",
    "for num in count:\n",
    "    print(num)"
   ]
  },
  {
   "cell_type": "code",
   "execution_count": 2,
   "id": "4a0726db-f4af-4495-94d1-eff9c7c352c5",
   "metadata": {},
   "outputs": [
    {
     "name": "stdout",
     "output_type": "stream",
     "text": [
      "10\n",
      "20\n",
      "30\n",
      "40\n"
     ]
    }
   ],
   "source": [
    "#for loop example 2\n",
    "#Print multiples of 10 for numbers in a given range\n",
    "for num in range(5):\n",
    "    if num > 0:\n",
    "        print(num * 10)"
   ]
  },
  {
   "cell_type": "code",
   "execution_count": 4,
   "id": "cc107576-96b0-4444-acfd-2818bb829e2e",
   "metadata": {},
   "outputs": [
    {
     "name": "stdout",
     "output_type": "stream",
     "text": [
      "1\n",
      "2\n",
      "3\n",
      "4\n"
     ]
    }
   ],
   "source": [
    "# while loop example 1\n",
    "#Print first 5 natural numbers using while loop\n",
    "count = 1\n",
    "while count < 5:\n",
    "    print(count)\n",
    "    count += 1"
   ]
  },
  {
   "cell_type": "code",
   "execution_count": 5,
   "id": "c892f803-fe00-4e77-8a4c-dbc0cdf4c17a",
   "metadata": {},
   "outputs": [
    {
     "name": "stdout",
     "output_type": "stream",
     "text": [
      "Enter numbers to find their sum, negative number ends the loop:\n"
     ]
    },
    {
     "name": "stdin",
     "output_type": "stream",
     "text": [
      " 1\n",
      " -1\n"
     ]
    }
   ],
   "source": [
    "#Break statement example\n",
    "entry = 0\n",
    "sum1 = 0\n",
    "print(\"Enter numbers to find their sum, negative number ends the loop:\")\n",
    "while True:\n",
    "    #int() typecasts string to integer\n",
    "    entry = int(input())\n",
    "    if (entry < 0):\n",
    "        break\n",
    "        sum1 + entry\n",
    "        print(\"Sum =\",sum1)"
   ]
  },
  {
   "cell_type": "code",
   "execution_count": 13,
   "id": "60e147a6-5a03-4d32-83f6-863c9ebe3637",
   "metadata": {},
   "outputs": [],
   "source": [
    "#continue statement example\n",
    "num = 0\n",
    "for num in range(6):\n",
    "    num = num + 1\n",
    "    if num == 3:\n",
    "        continue\n",
    "        print('Num has value' +str(num))\n",
    "        print('End of loop')"
   ]
  },
  {
   "cell_type": "code",
   "execution_count": 2,
   "id": "f55c9a14-2a18-46af-bc4d-b0073eafb6e1",
   "metadata": {},
   "outputs": [
    {
     "name": "stdout",
     "output_type": "stream",
     "text": [
      "Iteration1of outer loop\n",
      "1\n",
      "Out of inner loop\n",
      "Out of outer loop\n",
      "2\n",
      "Out of inner loop\n",
      "Out of outer loop\n",
      "Iteration2of outer loop\n",
      "1\n",
      "Out of inner loop\n",
      "Out of outer loop\n",
      "2\n",
      "Out of inner loop\n",
      "Out of outer loop\n",
      "Iteration3of outer loop\n",
      "1\n",
      "Out of inner loop\n",
      "Out of outer loop\n",
      "2\n",
      "Out of inner loop\n",
      "Out of outer loop\n"
     ]
    }
   ],
   "source": [
    "#program to demonstrate working of nested for loops\n",
    "for var1 in range(3):\n",
    "    print(\"Iteration\" + str(var1 + 1) + \"of outer loop\")\n",
    "    for var2 in range(2): #nested loop\n",
    "        print(var2 + 1)\n",
    "        print(\"Out of inner loop\")\n",
    "        print(\"Out of outer loop\")"
   ]
  },
  {
   "cell_type": "code",
   "execution_count": null,
   "id": "a8ae6f25-ade9-4f11-8efe-030f0dff2b7c",
   "metadata": {},
   "outputs": [],
   "source": []
  }
 ],
 "metadata": {
  "kernelspec": {
   "display_name": "Python 3 (ipykernel)",
   "language": "python",
   "name": "python3"
  },
  "language_info": {
   "codemirror_mode": {
    "name": "ipython",
    "version": 3
   },
   "file_extension": ".py",
   "mimetype": "text/x-python",
   "name": "python",
   "nbconvert_exporter": "python",
   "pygments_lexer": "ipython3",
   "version": "3.11.7"
  }
 },
 "nbformat": 4,
 "nbformat_minor": 5
}
