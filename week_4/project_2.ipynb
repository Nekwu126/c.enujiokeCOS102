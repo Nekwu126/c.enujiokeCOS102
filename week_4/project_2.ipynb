{
 "cells": [
  {
   "cell_type": "code",
   "execution_count": null,
   "id": "8e6947d8-3458-48af-8d9a-925f9280f82f",
   "metadata": {},
   "outputs": [],
   "source": [
    "# To take inputs from the user\n",
    "print(\"Program to asssign Annual tax revenue to staff\")\n",
    "\n",
    "exp = float(input(\"Enter your years of experience: \"))\n",
    "age = float(input(\"Enter your age: \"))\n",
    "\n",
    "\n",
    "\n"
   ]
  }
 ],
 "metadata": {
  "kernelspec": {
   "display_name": "Python 3 (ipykernel)",
   "language": "python",
   "name": "python3"
  },
  "language_info": {
   "codemirror_mode": {
    "name": "ipython",
    "version": 3
   },
   "file_extension": ".py",
   "mimetype": "text/x-python",
   "name": "python",
   "nbconvert_exporter": "python",
   "pygments_lexer": "ipython3",
   "version": "3.11.7"
  }
 },
 "nbformat": 4,
 "nbformat_minor": 5
}
